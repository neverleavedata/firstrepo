{
 "cells": [
  {
   "cell_type": "markdown",
   "id": "0ce30e06-cbb9-4c6e-bc6f-0a1c33431deb",
   "metadata": {},
   "source": [
    "# Data Science Tools and Ecosystem"
   ]
  },
  {
   "cell_type": "markdown",
   "id": "69bb3257-82ce-48b2-8d14-62f5b66d8fa7",
   "metadata": {},
   "source": [
    "# **Objectives:**\n",
    "\n",
    "* List populer languages in Data Science\n",
    "* List commonly used libraries in Data Science\n",
    "* How to create a table in Jupyter note book\n",
    "* Getting started with basic arithmetic operations\n"
   ]
  },
  {
   "cell_type": "markdown",
   "id": "af6c686a-b10d-429a-83ff-74f1eebe2c46",
   "metadata": {},
   "source": [
    "In this notebook, Data Science Tools and Ecosystem are summarized."
   ]
  },
  {
   "cell_type": "markdown",
   "id": "51dced86-c43e-4eee-970c-dfe3aa0e8a39",
   "metadata": {},
   "source": [
    "Some of the popular languages that Data Scientists use are:\n",
    "\n",
    "1. Python\n",
    "2. R\n",
    "3. Julia\n",
    "4. Scala\n",
    "5. Java Script\n",
    "6. SQL"
   ]
  },
  {
   "cell_type": "markdown",
   "id": "14eef7be-90f7-4da9-ae78-fedd2920e179",
   "metadata": {},
   "source": [
    "Some of the commonly used libraries used by Data Scientists include:\n",
    "\n",
    "1. Pandas\n",
    "2. NumPy\n",
    "3. Matplotlib\n",
    "4. Seaborn\n",
    "5. Scikit-learn\n",
    "6. Keras\n",
    "7. TensorFlow\n",
    "8. PyTorch"
   ]
  },
  {
   "cell_type": "markdown",
   "id": "537477c9-dc91-4b3e-ad2d-00d1cc2bf41c",
   "metadata": {},
   "source": [
    "| Data Science Tools |\n",
    "|:----------         | \n",
    "| MySQL              |\n",
    "| Hadoop File System |\n",
    "| MongoDB            |\n"
   ]
  },
  {
   "cell_type": "markdown",
   "id": "43268806-5381-4b65-ad2b-6bcb8fbf0bfa",
   "metadata": {},
   "source": [
    "### Below are a few examples of evaluating arithmetic expressions in Python"
   ]
  },
  {
   "cell_type": "code",
   "execution_count": 6,
   "id": "67f5f41a-125c-466e-9132-08b33a320c55",
   "metadata": {},
   "outputs": [
    {
     "data": {
      "text/plain": [
       "17"
      ]
     },
     "execution_count": 6,
     "metadata": {},
     "output_type": "execute_result"
    }
   ],
   "source": [
    "# This a simple arithmetic expression to mutiply then add integers\n",
    "(3*4)+5"
   ]
  },
  {
   "cell_type": "code",
   "execution_count": 7,
   "id": "01b73c7b-3d13-4ca6-9d75-d0c47e9f5f65",
   "metadata": {},
   "outputs": [
    {
     "data": {
      "text/plain": [
       "3.3333333333333335"
      ]
     },
     "execution_count": 7,
     "metadata": {},
     "output_type": "execute_result"
    }
   ],
   "source": [
    "# This will convert 200 minutes to hours by diving by 60\n",
    "200/60"
   ]
  },
  {
   "cell_type": "markdown",
   "id": "aad56595-7de9-4f01-85bb-aa99fe662210",
   "metadata": {},
   "source": [
    "## Author \n",
    "Udaya Herath Gedara"
   ]
  },
  {
   "cell_type": "code",
   "execution_count": null,
   "id": "58c6921c-d3b3-480e-92c8-2a54daad9782",
   "metadata": {},
   "outputs": [],
   "source": []
  }
 ],
 "metadata": {
  "kernelspec": {
   "display_name": "Python 3 (ipykernel)",
   "language": "python",
   "name": "python3"
  },
  "language_info": {
   "codemirror_mode": {
    "name": "ipython",
    "version": 3
   },
   "file_extension": ".py",
   "mimetype": "text/x-python",
   "name": "python",
   "nbconvert_exporter": "python",
   "pygments_lexer": "ipython3",
   "version": "3.9.13"
  }
 },
 "nbformat": 4,
 "nbformat_minor": 5
}
